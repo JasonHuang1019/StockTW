{
 "cells": [
  {
   "cell_type": "code",
   "execution_count": 1,
   "id": "71bde4a7",
   "metadata": {},
   "outputs": [
    {
     "name": "stderr",
     "output_type": "stream",
     "text": [
      "\n",
      "\n",
      "====== WebDriver manager ======\n",
      "Current google-chrome version is 91.0.4472\n",
      "Get LATEST driver version for 91.0.4472\n",
      "Driver [C:\\Users\\dream\\.wdm\\drivers\\chromedriver\\win32\\91.0.4472.101\\chromedriver.exe] found in cache\n"
     ]
    }
   ],
   "source": [
    "from bs4 import BeautifulSoup\n",
    "import requests\n",
    "\n",
    "from selenium import webdriver\n",
    "from selenium.webdriver.support.ui import Select\n",
    "from webdriver_manager.chrome import ChromeDriverManager\n",
    "import datetime\n",
    "import time\n",
    "import pandas as pd\n",
    "\n",
    "\n",
    "today=datetime.date.today()\n",
    "\n",
    "year = today.year\n",
    "month = today.month\n",
    "day = today.day\n",
    "\n",
    "day = 7\n",
    "\n",
    "browser = webdriver.Chrome(ChromeDriverManager().install())\n",
    "browser.get(\"https://www.twse.com.tw/zh/page/trading/exchange/TWT93U.html\")\n",
    "\n",
    "select_year = Select(browser.find_element_by_name(\"yy\"))\n",
    "select_year.select_by_value(str(year))  # 選擇傳入的年份\n",
    "\n",
    "select_month = Select(browser.find_element_by_name(\"mm\"))\n",
    "select_month.select_by_value(str(month))  # 選擇傳入的年份\n",
    "\n",
    "select_day = Select(browser.find_element_by_name(\"dd\"))\n",
    "select_day.select_by_value(str(day))  # 選擇傳入的年份\n",
    "\n",
    "time.sleep(2)\n",
    "find_button = browser.find_elements_by_xpath(\"/html/body/div[1]/div[1]/div/div/main/div[2]/div/div/form/a\")[0]\n",
    "find_button.click()\n",
    "\n",
    "time.sleep(2)\n",
    "select_length = Select(browser.find_element_by_name(\"report-table_length\"))\n",
    "select_length.select_by_value(\"-1\") \n",
    "\n",
    "\n",
    "html = browser.page_source\n",
    "soup = BeautifulSoup(html,'html.parser')\n",
    "\n",
    "div = soup.select_one(\"div#report-table_wrapper\")\n",
    "table = pd.read_html(str(div))\n"
   ]
  },
  {
   "cell_type": "code",
   "execution_count": 2,
   "id": "c375c89e",
   "metadata": {},
   "outputs": [
    {
     "data": {
      "text/plain": [
       "[      股票代號     股票名稱         融券                                           \\\n",
       "       股票代號     股票名稱       前日餘額        賣出        買進        現券       今日餘額   \n",
       " 0     0050   元大台灣50     146000         0     15000         0     131000   \n",
       " 1     0051  元大中型100          0         0         0         0          0   \n",
       " 2     0052     富邦科技          0         0         0         0          0   \n",
       " 3     0053     元大電子          0         0         0         0          0   \n",
       " 4     0054   元大台商50          0         0         0         0          0   \n",
       " ...    ...      ...        ...       ...       ...       ...        ...   \n",
       " 1073  9945      潤泰新      21000      9000         0         0      30000   \n",
       " 1074  9946     三發地產          0         0         0         0          0   \n",
       " 1075  9955       佳龍      10000         0         0         0      10000   \n",
       " 1076  9958      世紀鋼     300000    171000     18000     11000     442000   \n",
       " 1077   NaN       合計  458181000  44072000  42562000  11662000  448029000   \n",
       " \n",
       "                        借券賣出                                                 \\\n",
       "              限額        前日餘額       當日賣出      當日還券 當日調整        當日餘額 次一營業日可限額   \n",
       " 0     347625000    24521000          0    200000    0    24321000  1942616   \n",
       " 1       2625000       20000          0         0    0       20000    25903   \n",
       " 2      13750000      124000          0         0    0      124000   251717   \n",
       " 3       1372000       10000          0         0    0       10000     4622   \n",
       " 4       1781000           0          0         0    0           0     1951   \n",
       " ...         ...         ...        ...       ...  ...         ...      ...   \n",
       " 1073  376220249    14367500      39000         0    0    14406500  1347591   \n",
       " 1074   77750988     3500000          0         0    0     3500000    52332   \n",
       " 1075   25802057      472000       5000         0    0      477000   135938   \n",
       " 1076   57525535     9843049     201000     44000    0    10000049  2814148   \n",
       " 1077          0  9539200865  120772000  96462871    0  9563509994        0   \n",
       " \n",
       "        備註  \n",
       "        備註  \n",
       " 0     NaN  \n",
       " 1     NaN  \n",
       " 2     NaN  \n",
       " 3     NaN  \n",
       " 4       X  \n",
       " ...   ...  \n",
       " 1073  NaN  \n",
       " 1074  NaN  \n",
       " 1075  NaN  \n",
       " 1076  NaN  \n",
       " 1077  NaN  \n",
       " \n",
       " [1078 rows x 15 columns]]"
      ]
     },
     "execution_count": 2,
     "metadata": {},
     "output_type": "execute_result"
    }
   ],
   "source": [
    "table\n",
    "\n"
   ]
  },
  {
   "cell_type": "code",
   "execution_count": null,
   "id": "a691c63a",
   "metadata": {},
   "outputs": [],
   "source": []
  }
 ],
 "metadata": {
  "kernelspec": {
   "display_name": "Python 3",
   "language": "python",
   "name": "python3"
  },
  "language_info": {
   "codemirror_mode": {
    "name": "ipython",
    "version": 3
   },
   "file_extension": ".py",
   "mimetype": "text/x-python",
   "name": "python",
   "nbconvert_exporter": "python",
   "pygments_lexer": "ipython3",
   "version": "3.6.13"
  }
 },
 "nbformat": 4,
 "nbformat_minor": 5
}
